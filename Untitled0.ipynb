{
  "nbformat": 4,
  "nbformat_minor": 0,
  "metadata": {
    "colab": {
      "name": "Untitled0.ipynb",
      "provenance": [],
      "authorship_tag": "ABX9TyN2ZR852tzwhjOZM6LpKs/r",
      "include_colab_link": true
    },
    "kernelspec": {
      "name": "python3",
      "display_name": "Python 3"
    },
    "language_info": {
      "name": "python"
    }
  },
  "cells": [
    {
      "cell_type": "markdown",
      "metadata": {
        "id": "view-in-github",
        "colab_type": "text"
      },
      "source": [
        "<a href=\"https://colab.research.google.com/github/Shravanibobbili/Assignment-/blob/main/Untitled0.ipynb\" target=\"_parent\"><img src=\"https://colab.research.google.com/assets/colab-badge.svg\" alt=\"Open In Colab\"/></a>"
      ]
    },
    {
      "cell_type": "code",
      "execution_count": null,
      "metadata": {
        "colab": {
          "base_uri": "https://localhost:8080/",
          "height": 373
        },
        "id": "Lsc9Yk57Usw5",
        "outputId": "9cc91da0-f53a-4c47-d41a-041c0e184b32"
      },
      "outputs": [
        {
          "output_type": "error",
          "ename": "ModuleNotFoundError",
          "evalue": "ignored",
          "traceback": [
            "\u001b[0;31m---------------------------------------------------------------------------\u001b[0m",
            "\u001b[0;31mModuleNotFoundError\u001b[0m                       Traceback (most recent call last)",
            "\u001b[0;32m<ipython-input-1-9d411a741fae>\u001b[0m in \u001b[0;36m<module>\u001b[0;34m()\u001b[0m\n\u001b[1;32m      3\u001b[0m \u001b[0;32mimport\u001b[0m \u001b[0mjson\u001b[0m\u001b[0;34m\u001b[0m\u001b[0;34m\u001b[0m\u001b[0m\n\u001b[1;32m      4\u001b[0m \u001b[0;34m\u001b[0m\u001b[0m\n\u001b[0;32m----> 5\u001b[0;31m \u001b[0;32mfrom\u001b[0m \u001b[0mmysqlconnect\u001b[0m \u001b[0;32mimport\u001b[0m \u001b[0;34m*\u001b[0m\u001b[0;34m\u001b[0m\u001b[0;34m\u001b[0m\u001b[0m\n\u001b[0m\u001b[1;32m      6\u001b[0m \u001b[0;34m\u001b[0m\u001b[0m\n\u001b[1;32m      7\u001b[0m \u001b[0mapp\u001b[0m \u001b[0;34m=\u001b[0m \u001b[0mflask\u001b[0m\u001b[0;34m.\u001b[0m\u001b[0mFlask\u001b[0m\u001b[0;34m(\u001b[0m\u001b[0m_name_\u001b[0m\u001b[0;34m)\u001b[0m\u001b[0;34m\u001b[0m\u001b[0;34m\u001b[0m\u001b[0m\n",
            "\u001b[0;31mModuleNotFoundError\u001b[0m: No module named 'mysqlconnect'",
            "",
            "\u001b[0;31m---------------------------------------------------------------------------\u001b[0;32m\nNOTE: If your import is failing due to a missing package, you can\nmanually install dependencies using either !pip or !apt.\n\nTo view examples of installing some common dependencies, click the\n\"Open Examples\" button below.\n\u001b[0;31m---------------------------------------------------------------------------\u001b[0m\n"
          ],
          "errorDetails": {
            "actions": [
              {
                "action": "open_url",
                "actionText": "Open Examples",
                "url": "/notebooks/snippets/importing_libraries.ipynb"
              }
            ]
          }
        }
      ],
      "source": [
        "import flask\n",
        "import requests\n",
        "import json\n",
        "\n",
        "from mysqlconnect import *\n",
        "\n",
        "app = flask.Flask(_name_)\n",
        "\n",
        "@app.route(\"/\")\n",
        "def test():\n",
        "    return \"Hello\"\n",
        "\n",
        "def output_data(status_code, status, message=None):\n",
        "    result = {\n",
        "               \"status_code\": status_code,\n",
        "               \"status\": status,\n",
        "               \"data\": []\n",
        "             }\n",
        "    if message:\n",
        "        result['message'] = message\n",
        "    return result\n",
        "\n",
        "@app.route(\"/api/external-books\")\n",
        "def get_book_external():\n",
        "    url = \"https://www.anapioficeandfire.com/api/books\"\n",
        "    book_name =flask.request.args.get('name')\n",
        "    if book_name:\n",
        "        url = \"https://www.anapioficeandfire.com/api/books?name={}\".format(book_name)\n",
        "        response = requests.get(url)\n",
        "        if response.status_code == 200:\n",
        "            data = json.loads(response.content.decode('utf-8'))\n",
        "            if data:\n",
        "                result = output_data(response.status_code, \"success\")\n",
        "                result['data'].append({\n",
        "                         \"name\": data[0].get(\"name\"),\n",
        "                         \"isbn\": data[0].get(\"isbn\"),\n",
        "                         \"authors\": data[0].get(\"authors\"),\n",
        "                         \"numberOfPages\": data[0].get(\"numberOfPages\"),\n",
        "                         \"publisher\": data[0].get(\"publisher\"),\n",
        "                         \"country\": data[0].get(\"country\"),\n",
        "                         \"release_date\": data[0].get(\"released\")\n",
        "                        })\n",
        "                return flask.jsonify(result)\n",
        "            else:\n",
        "                return flask.jsonify(output_data(response.status_code, \"success\"))\n",
        "        else:\n",
        "            return \"External Api returned error :{}\".format(response.status_code)\n",
        "    else:\n",
        "        return \"Please provide a valid Book name\"\n",
        "\n",
        "@app.route(\"/api/v1/books\", methods=['GET', 'POST'])\n",
        "def books():\n",
        "    db = dbConnection()\n",
        "    if flask.request.method == 'POST':\n",
        "        data = flask.request.get_json()\n",
        "        status = db.insert(data)\n",
        "        db.db_close()\n",
        "        if status == \"success\":\n",
        "            result = output_data(201, status)\n",
        "            result['data'].append(data)\n",
        "            return flask.jsonify(result), 201\n",
        "        else:\n",
        "            return flask.jsonify(output_data(200, \"fail\"))\n",
        "    if flask.request.method == 'GET':\n",
        "        data = db.select()\n",
        "        result = output_data(200, \"success\")\n",
        "        result['data'] = data\n",
        "        db.db_close()\n",
        "        return flask.jsonify(result), 200\n",
        "\n",
        "@app.route(\"/api/v1/books/<int:book_id>\", methods=['GET', 'PATCH', \"DELETE\"])\n",
        "def update_book(book_id):\n",
        "    db = dbConnection()\n",
        "    if flask.request.method == 'GET':\n",
        "        data = db.select(book_id)\n",
        "        result  = output_data(200, \"success\")\n",
        "        result['data'] = data\n",
        "        db.db_close()\n",
        "        return flask.jsonify(result), 200\n",
        "    if flask.request.method == 'PATCH':\n",
        "        data = flask.request.get_json()\n",
        "        status = db.update(data, book_id)\n",
        "        if status == \"success\":\n",
        "            data = db.select(book_id)\n",
        "            message = \"The book {} was updated successfully\".format(data.get('name'))\n",
        "            result = output_data(200, \"success\", message)\n",
        "            result['data'] = data\n",
        "            db.db_close()\n",
        "            return flask.jsonify(result), 200\n",
        "        else:\n",
        "            db.db.close()\n",
        "            return flask.jsonify(output_data(200, \"fail\")) \n",
        "\n",
        "    if flask.request.method == 'DELETE':\n",
        "        data = db.select(book_id)\n",
        "        if data:\n",
        "            status = db.delete(book_id)\n",
        "            if status == \"success\":\n",
        "                message = \"The book {} was deleted successfully\".format(data.get(\"name\"))\n",
        "                db.db_close()\n",
        "                return flask.jsonify(output_data(200, \"success\", message))\n",
        "            else:\n",
        "                message = status\n",
        "                db.db_close()\n",
        "                return flask.jsonify(output_data(200, \"fail\", message))\n",
        "        else:\n",
        "            message = \"Provide a valid book id\"\n",
        "            return flask.jsonify(output_data(200, \"fail\", message))\n",
        "\n",
        "if _name_ == '_main_':\n",
        "    app.run(host='0.0.0.0', port=8080)"
      ]
    }
  ]
}