{
  "nbformat": 4,
  "nbformat_minor": 0,
  "metadata": {
    "colab": {
      "name": "Untitled2.ipynb",
      "provenance": [],
      "authorship_tag": "ABX9TyMKaMpEYQ7NK+aC9lLt8Bdu",
      "include_colab_link": true
    },
    "kernelspec": {
      "name": "python3",
      "display_name": "Python 3"
    },
    "language_info": {
      "name": "python"
    }
  },
  "cells": [
    {
      "cell_type": "markdown",
      "metadata": {
        "id": "view-in-github",
        "colab_type": "text"
      },
      "source": [
        "<a href=\"https://colab.research.google.com/github/Shravanibobbili/Assignment-/blob/main/Untitled2.ipynb\" target=\"_parent\"><img src=\"https://colab.research.google.com/assets/colab-badge.svg\" alt=\"Open In Colab\"/></a>"
      ]
    },
    {
      "cell_type": "code",
      "execution_count": 1,
      "metadata": {
        "colab": {
          "base_uri": "https://localhost:8080/",
          "height": 373
        },
        "id": "qtxvaP2IYir2",
        "outputId": "e74184bd-29f7-4fe1-c099-f517dfe0b879"
      },
      "outputs": [
        {
          "output_type": "error",
          "ename": "ModuleNotFoundError",
          "evalue": "ignored",
          "traceback": [
            "\u001b[0;31m---------------------------------------------------------------------------\u001b[0m",
            "\u001b[0;31mModuleNotFoundError\u001b[0m                       Traceback (most recent call last)",
            "\u001b[0;32m<ipython-input-1-c96c733035ed>\u001b[0m in \u001b[0;36m<module>\u001b[0;34m()\u001b[0m\n\u001b[0;32m----> 1\u001b[0;31m \u001b[0;32mimport\u001b[0m \u001b[0mpymysql\u001b[0m\u001b[0;34m\u001b[0m\u001b[0;34m\u001b[0m\u001b[0m\n\u001b[0m\u001b[1;32m      2\u001b[0m \u001b[0;32mimport\u001b[0m \u001b[0mcollections\u001b[0m\u001b[0;34m\u001b[0m\u001b[0;34m\u001b[0m\u001b[0m\n\u001b[1;32m      3\u001b[0m \u001b[0;34m\u001b[0m\u001b[0m\n\u001b[1;32m      4\u001b[0m \u001b[0;32mclass\u001b[0m \u001b[0mdbConnection\u001b[0m\u001b[0;34m:\u001b[0m\u001b[0;34m\u001b[0m\u001b[0;34m\u001b[0m\u001b[0m\n\u001b[1;32m      5\u001b[0m     \u001b[0;32mdef\u001b[0m \u001b[0m_init_\u001b[0m\u001b[0;34m(\u001b[0m\u001b[0mself\u001b[0m\u001b[0;34m)\u001b[0m\u001b[0;34m:\u001b[0m\u001b[0;34m\u001b[0m\u001b[0;34m\u001b[0m\u001b[0m\n",
            "\u001b[0;31mModuleNotFoundError\u001b[0m: No module named 'pymysql'",
            "",
            "\u001b[0;31m---------------------------------------------------------------------------\u001b[0;32m\nNOTE: If your import is failing due to a missing package, you can\nmanually install dependencies using either !pip or !apt.\n\nTo view examples of installing some common dependencies, click the\n\"Open Examples\" button below.\n\u001b[0;31m---------------------------------------------------------------------------\u001b[0m\n"
          ],
          "errorDetails": {
            "actions": [
              {
                "action": "open_url",
                "actionText": "Open Examples",
                "url": "/notebooks/snippets/importing_libraries.ipynb"
              }
            ]
          }
        }
      ],
      "source": [
        "import pymysql\n",
        "import collections\n",
        "\n",
        "class dbConnection:\n",
        "    def _init_(self):\n",
        "        try:\n",
        "            self.conn = pymysql.connect(host=\"localhost\", user=\"root\", password=\"hello\", db=\"books_data\")\n",
        "        except Exception as e:\n",
        "            print(e)\n",
        "\n",
        "    def insert(self, data):\n",
        "        sql = \"\"\"INSERT INTO book(name, isbn, authors, country, number_of_pages, publisher, release_date) VALUES \n",
        "                 ('{}', '{}', '{}', '{}', '{}', '{}', '{}')\"\"\".format(data.get(\"name\"), data.get(\"isbn\"), \n",
        "                 \",\".join(data.get(\"authors\")), data.get(\"country\"), data.get(\"number_of_pages\"), data.get(\"publisher\"), \n",
        "                 data.get(\"release_date\"))\n",
        "        print(sql)\n",
        "        try:\n",
        "            cur = self.conn.cursor()\n",
        "            cur.execute(sql)\n",
        "            self.conn.commit()\n",
        "            return \"success\"\n",
        "        except Exception as e:\n",
        "            print(e)\n",
        "            return e\n",
        "        \n",
        "    def select(self, book_id=None):\n",
        "        sql = \"SELECT * FROM book\"\n",
        "        if book_id:\n",
        "            sql = \"SELECT * FROM book WHERE id = {}\".format(book_id)\n",
        "        try:\n",
        "            cur = self.conn.cursor()\n",
        "            cur.execute(sql)\n",
        "            headers = list(map(lambda x: x[0], cur.description))\n",
        "            data = []\n",
        "            for value in cur.fetchall():\n",
        "                book_dict = collections.OrderedDict(zip(headers, value))\n",
        "                book_dict['authors'] = book_dict['authors'].split(\",\")\n",
        "                data.append(book_dict)\n",
        "            if book_id and data:\n",
        "                return data[0]\n",
        "            return data\n",
        "        except Exception as e:\n",
        "            print(e)\n",
        "\n",
        "    def update(self, data, book_id):\n",
        "        temp = \", \".join([\"{} = '{}'\".format(key, data[key]) for key in data ])\n",
        "        sql = \"\"\"UPDATE book SET {} WHERE id = {}\"\"\".format(temp, book_id)\n",
        "        try:\n",
        "            cur = self.conn.cursor()\n",
        "            cur.execute(sql)\n",
        "            self.conn.commit()\n",
        "            return \"success\"\n",
        "        except Exception as e:\n",
        "            print(e)\n",
        "            return e\n",
        "\n",
        "    def delete(self, book_id):\n",
        "        sql = \"DELETE FROM book WHERE id = {}\".format(book_id)\n",
        "        try:\n",
        "            cur = self.conn.cursor()\n",
        "            cur.execute(sql)\n",
        "            self.conn.commit()\n",
        "            return \"success\"\n",
        "        except Exception as e:\n",
        "            print(e)\n",
        "            return e        \n",
        "\n",
        "    def db_close(self):\n",
        "        self.conn.close()"
      ]
    }
  ]
}